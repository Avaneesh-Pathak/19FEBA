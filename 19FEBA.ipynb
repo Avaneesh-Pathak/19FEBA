{
 "cells": [
  {
   "cell_type": "code",
   "execution_count": 1,
   "id": "8534b25f-6d25-42c6-ad24-bc5db003ee06",
   "metadata": {},
   "outputs": [
    {
     "ename": "SyntaxError",
     "evalue": "incomplete input (2236022903.py, line 1)",
     "output_type": "error",
     "traceback": [
      "\u001b[1;36m  Cell \u001b[1;32mIn[1], line 1\u001b[1;36m\u001b[0m\n\u001b[1;33m    '''What is Flask Framework? What are the advantages of Flask Framework?\u001b[0m\n\u001b[1;37m    ^\u001b[0m\n\u001b[1;31mSyntaxError\u001b[0m\u001b[1;31m:\u001b[0m incomplete input\n"
     ]
    }
   ],
   "source": [
    "'''What is Flask Framework? What are the advantages of Flask Framework?"
   ]
  },
  {
   "cell_type": "code",
   "execution_count": null,
   "id": "165be03e-aa78-4a53-89fc-38a48c86fbdb",
   "metadata": {},
   "outputs": [],
   "source": [
    "Flask is a micro web framework written in Python.\n",
    "It is classified as a microframework because it does not require particular tools or libraries."
   ]
  },
  {
   "cell_type": "code",
   "execution_count": null,
   "id": "714552fd-a453-465e-a543-6f02cf968873",
   "metadata": {},
   "outputs": [],
   "source": [
    "'''2. Create a simple Flask application to display ‘Hello World!!’. Attach the screenshot of the output in\n",
    "Jupyter Notebook."
   ]
  },
  {
   "cell_type": "markdown",
   "id": "c4f3a169-d4f1-4fab-9328-e6580e42d8b3",
   "metadata": {},
   "source": [
    "from flask import Flask\n",
    "\n",
    "\n",
    "\n",
    "app = Flask(__name__)\n",
    "\n",
    "@app.route(\"/\")\n",
    "def hello_world():\n",
    "    return \"<h1>Hello, World!</h1>\"\n",
    "\n",
    "\n",
    "if __name__==\"__main__\":\n",
    "    app.run(host=\"0.0.0.0\")\n",
    "\n",
    "    \n",
    "    \n",
    "    \n",
    "    "
   ]
  },
  {
   "cell_type": "markdown",
   "id": "619dba42-17e8-4f32-9c00-101d363e881a",
   "metadata": {},
   "source": []
  },
  {
   "cell_type": "code",
   "execution_count": null,
   "id": "8950a036-9af0-48d7-8854-9d1976f1573a",
   "metadata": {},
   "outputs": [],
   "source": [
    "'''3. What is App routing in Flask? Why do we use app routes?"
   ]
  },
  {
   "cell_type": "code",
   "execution_count": null,
   "id": "00d14ecb-84ef-4b13-9649-6a95e2cf3998",
   "metadata": {},
   "outputs": [],
   "source": [
    "----->  App Routing means mapping the URLs to a specific function that will handle the logic for that URL.\n",
    "Modern web frameworks use more meaningful URLs to help users remember the URLs and make navigation simpler.\n",
    "Example: In our application, the URL (“/”) is associated with the root URL.\n",
    "\n",
    "App routing is used to map the specific URL with the associated function that is intended to perform some task."
   ]
  },
  {
   "cell_type": "code",
   "execution_count": null,
   "id": "de8174f3-eaaa-4af0-8b49-baaebf256db2",
   "metadata": {},
   "outputs": [],
   "source": [
    "''' Create a “/welcome” route to display the welcome message “Welcome to ABC Corporation” and a “/”\n",
    "route to show the following details:\n",
    "\n",
    "    Company Name: ABC Corporation\n",
    "\n",
    "    Location: India\n",
    "\n",
    "    Contact Detail: 999-999-9999"
   ]
  },
  {
   "cell_type": "code",
   "execution_count": 2,
   "id": "1f6e6497-7f1f-4e92-ae05-34a05f6883f9",
   "metadata": {
    "tags": []
   },
   "outputs": [],
   "source": [
    "from flask import Flask\n",
    "\n",
    "\n",
    "\n",
    "app = Flask(__name__)\n",
    "\n",
    "@app.route(\"/\")\n",
    "def company():\n",
    "    return '''Company Name: ABC Corporation\n",
    "\n",
    "    Location: India\n",
    "\n",
    "    Contact Detail: 999-999-9999 '''\n",
    "\n",
    "\n",
    "@app.route(\"/welcome\")\n",
    "def welcome():\n",
    "    return \"<h1>Welcome to ABC Corporation</h1>\"\n",
    "\n",
    "if __name__==\"__main__\":\n",
    "    app.run(host=\"0.0.0.0\")\n"
   ]
  },
  {
   "cell_type": "markdown",
   "id": "9a939e45",
   "metadata": {},
   "source": []
  },
  {
   "cell_type": "code",
   "execution_count": null,
   "id": "5647145e-dfcd-428f-a5a3-a96bc1ee998b",
   "metadata": {},
   "outputs": [],
   "source": [
    "'''What function is used in Flask for URL Building? Write a Python code to demonstrate the working of the\n",
    "url_for() function."
   ]
  },
  {
   "cell_type": "code",
   "execution_count": null,
   "id": "c9539167-5d32-4182-ab90-37ee3f7af9fa",
   "metadata": {},
   "outputs": [],
   "source": [
    "---->  The url_for() function is very useful for dynamically building a URL for a specific function.\n",
    "The function accepts the name of a function as first argument, and one or more keyword arguments, each corresponding to the variable part of URL.\n",
    "\n",
    "\n"
   ]
  },
  {
   "cell_type": "code",
   "execution_count": null,
   "id": "6ebf0310-6a2f-4aa5-a3ef-edd9bcfd644a",
   "metadata": {},
   "outputs": [],
   "source": []
  },
  {
   "cell_type": "code",
   "execution_count": null,
   "id": "3462f8ac-afe2-4248-95d0-25a9feef7c96",
   "metadata": {},
   "outputs": [],
   "source": []
  },
  {
   "cell_type": "code",
   "execution_count": null,
   "id": "96f2197e-d121-47f7-a17a-48a0f2198ed0",
   "metadata": {},
   "outputs": [],
   "source": []
  },
  {
   "cell_type": "code",
   "execution_count": null,
   "id": "a7b94656-b3d5-4fa1-bb9f-b12c2ee9b9d3",
   "metadata": {},
   "outputs": [],
   "source": []
  },
  {
   "cell_type": "code",
   "execution_count": null,
   "id": "18016785-2b07-420d-8c60-518fa9459e32",
   "metadata": {},
   "outputs": [],
   "source": []
  },
  {
   "cell_type": "code",
   "execution_count": null,
   "id": "e0a806b5-2c5a-4b22-8eb1-d133bcb033c9",
   "metadata": {},
   "outputs": [],
   "source": []
  }
 ],
 "metadata": {
  "kernelspec": {
   "display_name": "Python 3",
   "language": "python",
   "name": "python3"
  },
  "language_info": {
   "codemirror_mode": {
    "name": "ipython",
    "version": 3
   },
   "file_extension": ".py",
   "mimetype": "text/x-python",
   "name": "python",
   "nbconvert_exporter": "python",
   "pygments_lexer": "ipython3",
   "version": "3.10.10"
  },
  "vscode": {
   "interpreter": {
    "hash": "a05f5d44e7cdc60294b6d4f49498da686c65e66fca700e16f1f8e9813603901a"
   }
  }
 },
 "nbformat": 4,
 "nbformat_minor": 5
}
